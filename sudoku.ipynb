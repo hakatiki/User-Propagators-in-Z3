{
 "cells": [
  {
   "cell_type": "code",
   "execution_count": 9,
   "metadata": {},
   "outputs": [],
   "source": [
    "def solve_sudoku(board):\n",
    "    # Function to check if a number can be placed at a given position\n",
    "    def is_valid(num, pos):\n",
    "        # Check row for the same number\n",
    "        for i in range(len(board[0])):\n",
    "            if board[pos[0]][i] == num and pos[1] != i:\n",
    "                return False\n",
    "\n",
    "        # Check column for the same number\n",
    "        for i in range(len(board)):\n",
    "            if board[i][pos[1]] == num and pos[0] != i:\n",
    "                return False\n",
    "\n",
    "        # Check 3x3 box for the same number\n",
    "        box_x = pos[1] // 3\n",
    "        box_y = pos[0] // 3\n",
    "\n",
    "        for i in range(box_y*3, box_y*3 + 3):\n",
    "            for j in range(box_x * 3, box_x*3 + 3):\n",
    "                if board[i][j] == num and (i,j) != pos:\n",
    "                    return False\n",
    "\n",
    "        return True\n",
    "\n",
    "    # Function to find an empty space in the board (marked as 0)\n",
    "    def find_empty():\n",
    "        for i in range(len(board)):\n",
    "            for j in range(len(board[0])):\n",
    "                if board[i][j] == 0:\n",
    "                    return (i, j)  # row, col\n",
    "        return None\n",
    "\n",
    "    # Recursive function to solve the puzzle\n",
    "    def solve():\n",
    "        find = find_empty()\n",
    "        if not find:\n",
    "            return True  # Puzzle solved\n",
    "        else:\n",
    "            row, col = find\n",
    "\n",
    "        # Try placing numbers 1-9 in the empty space\n",
    "        for i in range(1,10):\n",
    "            if is_valid(i, (row, col)):\n",
    "                board[row][col] = i\n",
    "\n",
    "                if solve():\n",
    "                    return True  # If successful, return True\n",
    "\n",
    "                board[row][col] = 0  # Backtrack\n",
    "\n",
    "        return False\n",
    "    \n",
    "    # Function to print the solved puzzle\n",
    "    def print_sudoku(solution):\n",
    "        if solution is None:\n",
    "            print(\"No solution found.\")\n",
    "            return\n",
    "        print(\"Sudoku Solution:\")\n",
    "        print(\"-\" * 21)\n",
    "        for i, row in enumerate(solution):\n",
    "            row_str = ' | '.join(' '.join(str(cell) for cell in row[j:j+3]) for j in range(0, 9, 3))\n",
    "            print(row_str)\n",
    "            if i % 3 == 2:\n",
    "                print(\"-\" * 21)\n",
    "\n",
    "    solve()\n",
    "    print_sudoku(board)"
   ]
  },
  {
   "cell_type": "code",
   "execution_count": 10,
   "metadata": {},
   "outputs": [],
   "source": [
    "# Puzzle to solve\n",
    "puzzle = [\n",
    "    [5, 3, 0, 0, 7, 0, 0, 0, 0],\n",
    "    [6, 0, 0, 1, 9, 5, 0, 0, 0],\n",
    "    [0, 9, 8, 0, 0, 0, 0, 6, 0],\n",
    "    [8, 0, 0, 0, 6, 0, 0, 0, 3],\n",
    "    [4, 0, 0, 8, 0, 3, 0, 0, 1],\n",
    "    [7, 0, 0, 0, 2, 0, 0, 0, 6],\n",
    "    [0, 6, 0, 0, 0, 0, 2, 8, 0],\n",
    "    [0, 0, 0, 4, 1, 9, 0, 0, 5],\n",
    "    [0, 0, 0, 0, 8, 0, 0, 7, 9]\n",
    "]"
   ]
  },
  {
   "cell_type": "code",
   "execution_count": 11,
   "metadata": {},
   "outputs": [
    {
     "name": "stdout",
     "output_type": "stream",
     "text": [
      "Sudoku Solution:\n",
      "---------------------\n",
      "5 3 4 | 6 7 8 | 9 1 2\n",
      "6 7 2 | 1 9 5 | 3 4 8\n",
      "1 9 8 | 3 4 2 | 5 6 7\n",
      "---------------------\n",
      "8 5 9 | 7 6 1 | 4 2 3\n",
      "4 2 6 | 8 5 3 | 7 9 1\n",
      "7 1 3 | 9 2 4 | 8 5 6\n",
      "---------------------\n",
      "9 6 1 | 5 3 7 | 2 8 4\n",
      "2 8 7 | 4 1 9 | 6 3 5\n",
      "3 4 5 | 2 8 6 | 1 7 9\n",
      "---------------------\n"
     ]
    }
   ],
   "source": [
    "# Solve the puzzle\n",
    "solve_sudoku(puzzle)"
   ]
  }
 ],
 "metadata": {
  "kernelspec": {
   "display_name": ".venv",
   "language": "python",
   "name": "python3"
  },
  "language_info": {
   "codemirror_mode": {
    "name": "ipython",
    "version": 3
   },
   "file_extension": ".py",
   "mimetype": "text/x-python",
   "name": "python",
   "nbconvert_exporter": "python",
   "pygments_lexer": "ipython3",
   "version": "3.11.6"
  }
 },
 "nbformat": 4,
 "nbformat_minor": 2
}
